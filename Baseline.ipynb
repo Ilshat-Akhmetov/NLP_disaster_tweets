{
 "cells": [
  {
   "cell_type": "markdown",
   "id": "pointed-forum",
   "metadata": {},
   "source": [
    "# Getting started"
   ]
  },
  {
   "cell_type": "code",
   "execution_count": 46,
   "id": "later-heather",
   "metadata": {
    "ExecuteTime": {
     "end_time": "2022-11-07T03:56:52.756195Z",
     "start_time": "2022-11-07T03:56:52.740531Z"
    }
   },
   "outputs": [],
   "source": [
    "import pandas as pd\n",
    "import sklearn\n",
    "import numpy as np\n",
    "\n",
    "import matplotlib.pyplot as plt\n",
    "import seaborn as sns\n",
    "import nltk\n",
    "import re\n",
    "import emoji\n",
    "\n",
    "from sklearn.feature_extraction.text import TfidfVectorizer\n",
    "from sklearn.model_selection import train_test_split\n",
    "from sklearn.linear_model import LogisticRegression\n",
    "from sklearn.pipeline import Pipeline\n",
    "from sklearn.compose import ColumnTransformer\n",
    "from sklearn.metrics import accuracy_score\n",
    "\n",
    "from nltk.stem import WordNetLemmatizer\n",
    "\n",
    "seed = 77"
   ]
  },
  {
   "cell_type": "code",
   "execution_count": 47,
   "id": "royal-repeat",
   "metadata": {
    "ExecuteTime": {
     "end_time": "2022-11-07T03:56:53.069977Z",
     "start_time": "2022-11-07T03:56:53.023619Z"
    }
   },
   "outputs": [],
   "source": [
    "main_df = pd.read_csv(\"train.csv\")\n",
    "test_df = pd.read_csv(\"test.csv\")"
   ]
  },
  {
   "cell_type": "code",
   "execution_count": 48,
   "id": "dramatic-bobby",
   "metadata": {
    "ExecuteTime": {
     "end_time": "2022-11-07T03:56:53.288389Z",
     "start_time": "2022-11-07T03:56:53.275371Z"
    }
   },
   "outputs": [
    {
     "data": {
      "text/html": [
       "<div>\n",
       "<style scoped>\n",
       "    .dataframe tbody tr th:only-of-type {\n",
       "        vertical-align: middle;\n",
       "    }\n",
       "\n",
       "    .dataframe tbody tr th {\n",
       "        vertical-align: top;\n",
       "    }\n",
       "\n",
       "    .dataframe thead th {\n",
       "        text-align: right;\n",
       "    }\n",
       "</style>\n",
       "<table border=\"1\" class=\"dataframe\">\n",
       "  <thead>\n",
       "    <tr style=\"text-align: right;\">\n",
       "      <th></th>\n",
       "      <th>id</th>\n",
       "      <th>keyword</th>\n",
       "      <th>location</th>\n",
       "      <th>text</th>\n",
       "      <th>target</th>\n",
       "    </tr>\n",
       "  </thead>\n",
       "  <tbody>\n",
       "    <tr>\n",
       "      <th>0</th>\n",
       "      <td>1</td>\n",
       "      <td>NaN</td>\n",
       "      <td>NaN</td>\n",
       "      <td>Our Deeds are the Reason of this #earthquake M...</td>\n",
       "      <td>1</td>\n",
       "    </tr>\n",
       "    <tr>\n",
       "      <th>1</th>\n",
       "      <td>4</td>\n",
       "      <td>NaN</td>\n",
       "      <td>NaN</td>\n",
       "      <td>Forest fire near La Ronge Sask. Canada</td>\n",
       "      <td>1</td>\n",
       "    </tr>\n",
       "    <tr>\n",
       "      <th>2</th>\n",
       "      <td>5</td>\n",
       "      <td>NaN</td>\n",
       "      <td>NaN</td>\n",
       "      <td>All residents asked to 'shelter in place' are ...</td>\n",
       "      <td>1</td>\n",
       "    </tr>\n",
       "    <tr>\n",
       "      <th>3</th>\n",
       "      <td>6</td>\n",
       "      <td>NaN</td>\n",
       "      <td>NaN</td>\n",
       "      <td>13,000 people receive #wildfires evacuation or...</td>\n",
       "      <td>1</td>\n",
       "    </tr>\n",
       "    <tr>\n",
       "      <th>4</th>\n",
       "      <td>7</td>\n",
       "      <td>NaN</td>\n",
       "      <td>NaN</td>\n",
       "      <td>Just got sent this photo from Ruby #Alaska as ...</td>\n",
       "      <td>1</td>\n",
       "    </tr>\n",
       "  </tbody>\n",
       "</table>\n",
       "</div>"
      ],
      "text/plain": [
       "   id keyword location                                               text  \\\n",
       "0   1     NaN      NaN  Our Deeds are the Reason of this #earthquake M...   \n",
       "1   4     NaN      NaN             Forest fire near La Ronge Sask. Canada   \n",
       "2   5     NaN      NaN  All residents asked to 'shelter in place' are ...   \n",
       "3   6     NaN      NaN  13,000 people receive #wildfires evacuation or...   \n",
       "4   7     NaN      NaN  Just got sent this photo from Ruby #Alaska as ...   \n",
       "\n",
       "   target  \n",
       "0       1  \n",
       "1       1  \n",
       "2       1  \n",
       "3       1  \n",
       "4       1  "
      ]
     },
     "execution_count": 48,
     "metadata": {},
     "output_type": "execute_result"
    }
   ],
   "source": [
    "main_df.head()"
   ]
  },
  {
   "cell_type": "code",
   "execution_count": 49,
   "id": "handmade-renewal",
   "metadata": {
    "ExecuteTime": {
     "end_time": "2022-11-07T03:56:53.506156Z",
     "start_time": "2022-11-07T03:56:53.479491Z"
    }
   },
   "outputs": [],
   "source": [
    "# nltk.download('omw-1.4')"
   ]
  },
  {
   "cell_type": "code",
   "execution_count": 50,
   "id": "dimensional-scotland",
   "metadata": {
    "ExecuteTime": {
     "end_time": "2022-11-07T03:56:53.755792Z",
     "start_time": "2022-11-07T03:56:53.739878Z"
    }
   },
   "outputs": [],
   "source": [
    "main_df.drop(columns=['id'], inplace = True)"
   ]
  },
  {
   "cell_type": "markdown",
   "id": "intended-omega",
   "metadata": {},
   "source": [
    "# EDA"
   ]
  },
  {
   "cell_type": "code",
   "execution_count": 51,
   "id": "brown-branch",
   "metadata": {
    "ExecuteTime": {
     "end_time": "2022-11-07T03:56:54.243274Z",
     "start_time": "2022-11-07T03:56:54.225272Z"
    }
   },
   "outputs": [
    {
     "data": {
      "text/plain": [
       "(7613, 4)"
      ]
     },
     "execution_count": 51,
     "metadata": {},
     "output_type": "execute_result"
    }
   ],
   "source": [
    "main_df.shape"
   ]
  },
  {
   "cell_type": "code",
   "execution_count": 52,
   "id": "human-eclipse",
   "metadata": {
    "ExecuteTime": {
     "end_time": "2022-11-07T03:56:54.462132Z",
     "start_time": "2022-11-07T03:56:54.449129Z"
    }
   },
   "outputs": [
    {
     "data": {
      "text/plain": [
       "id             0\n",
       "keyword       26\n",
       "location    1105\n",
       "text           0\n",
       "dtype: int64"
      ]
     },
     "execution_count": 52,
     "metadata": {},
     "output_type": "execute_result"
    }
   ],
   "source": [
    "test_df.isna().sum()"
   ]
  },
  {
   "cell_type": "code",
   "execution_count": 53,
   "id": "pacific-patio",
   "metadata": {
    "ExecuteTime": {
     "end_time": "2022-11-07T03:56:54.716638Z",
     "start_time": "2022-11-07T03:56:54.694641Z"
    }
   },
   "outputs": [
    {
     "data": {
      "text/plain": [
       "keyword       61\n",
       "location    2533\n",
       "text           0\n",
       "target         0\n",
       "dtype: int64"
      ]
     },
     "execution_count": 53,
     "metadata": {},
     "output_type": "execute_result"
    }
   ],
   "source": [
    "main_df.isna().sum()"
   ]
  },
  {
   "cell_type": "code",
   "execution_count": 54,
   "id": "banned-faculty",
   "metadata": {
    "ExecuteTime": {
     "end_time": "2022-11-07T03:56:54.950781Z",
     "start_time": "2022-11-07T03:56:54.934782Z"
    }
   },
   "outputs": [
    {
     "data": {
      "text/plain": [
       "3342"
      ]
     },
     "execution_count": 54,
     "metadata": {},
     "output_type": "execute_result"
    }
   ],
   "source": [
    "len(set(main_df['location'])) # i think location feature should be dropped"
   ]
  },
  {
   "cell_type": "code",
   "execution_count": 55,
   "id": "vertical-productivity",
   "metadata": {
    "ExecuteTime": {
     "end_time": "2022-11-07T03:56:55.175042Z",
     "start_time": "2022-11-07T03:56:55.164020Z"
    }
   },
   "outputs": [],
   "source": [
    "main_df.drop(columns=['location'], inplace=True)\n",
    "test_df.drop(columns=['location'], inplace=True)"
   ]
  },
  {
   "cell_type": "code",
   "execution_count": 56,
   "id": "chubby-atlas",
   "metadata": {
    "ExecuteTime": {
     "end_time": "2022-11-07T03:56:55.425685Z",
     "start_time": "2022-11-07T03:56:55.413681Z"
    }
   },
   "outputs": [],
   "source": [
    "train_data, valid_data, train_target, valid_target = train_test_split(main_df.drop(columns = [\"target\"]), \n",
    "                                                                      main_df['target'],  \n",
    "                                                                      stratify=main_df['target'],\n",
    "                                                                      test_size=0.2,\n",
    "                                                                      random_state=seed)"
   ]
  },
  {
   "cell_type": "code",
   "execution_count": 57,
   "id": "beautiful-gathering",
   "metadata": {
    "ExecuteTime": {
     "end_time": "2022-11-07T03:56:55.680432Z",
     "start_time": "2022-11-07T03:56:55.660429Z"
    }
   },
   "outputs": [
    {
     "data": {
      "text/plain": [
       "222"
      ]
     },
     "execution_count": 57,
     "metadata": {},
     "output_type": "execute_result"
    }
   ],
   "source": [
    "x = set(train_data['keyword'])\n",
    "len(x)"
   ]
  },
  {
   "cell_type": "code",
   "execution_count": 58,
   "id": "passive-tunisia",
   "metadata": {
    "ExecuteTime": {
     "end_time": "2022-11-07T03:56:55.900497Z",
     "start_time": "2022-11-07T03:56:55.889484Z"
    }
   },
   "outputs": [],
   "source": [
    "def fillna(df, col, replace_val='no_keyword') -> None:\n",
    "    # replace_val = df[col].value_counts().index[0]\n",
    "    df[col].fillna(replace_val, inplace=True)\n",
    "    \n",
    "fillna(train_data, 'keyword')\n",
    "fillna(valid_data, 'keyword')\n",
    "fillna(test_df, 'keyword')\n",
    "\n",
    "# fillna(train_data, 'location', 'no_loc_mentioned')\n",
    "# fillna(valid_data, 'location', 'no_loc_mentioned')\n",
    "# fillna(test_df, 'location', 'no_loc_mentioned')"
   ]
  },
  {
   "cell_type": "code",
   "execution_count": 59,
   "id": "alleged-conservation",
   "metadata": {
    "ExecuteTime": {
     "end_time": "2022-11-07T03:56:56.183464Z",
     "start_time": "2022-11-07T03:56:56.172467Z"
    }
   },
   "outputs": [],
   "source": [
    "def remove_invalid_data(df: pd.DataFrame, col:str) -> None:\n",
    "    df[col] = df[col].apply(lambda x: x.replace(r'%20',' '))\n",
    "    \n",
    "remove_invalid_data(train_data, 'keyword')\n",
    "remove_invalid_data(valid_data, 'keyword')\n",
    "remove_invalid_data(test_df, 'keyword')"
   ]
  },
  {
   "cell_type": "code",
   "execution_count": 60,
   "id": "random-operation",
   "metadata": {
    "ExecuteTime": {
     "end_time": "2022-11-07T03:56:59.596422Z",
     "start_time": "2022-11-07T03:56:59.535248Z"
    }
   },
   "outputs": [],
   "source": [
    "lemmatizer = WordNetLemmatizer()\n",
    "\n",
    "for df in [train_data, valid_data, test_df]:\n",
    "    df['keyword'] = df['keyword'].apply(lambda x: \" \".join(lemmatizer.lemmatize(w) for w in x.split(\" \")))"
   ]
  },
  {
   "cell_type": "code",
   "execution_count": 61,
   "id": "alien-sierra",
   "metadata": {
    "ExecuteTime": {
     "end_time": "2022-11-07T03:57:00.232615Z",
     "start_time": "2022-11-07T03:57:00.212629Z"
    }
   },
   "outputs": [
    {
     "data": {
      "text/plain": [
       "212"
      ]
     },
     "execution_count": 61,
     "metadata": {},
     "output_type": "execute_result"
    }
   ],
   "source": [
    "x = set(train_data['keyword'])\n",
    "len(x)"
   ]
  },
  {
   "cell_type": "code",
   "execution_count": 62,
   "id": "marine-traffic",
   "metadata": {
    "ExecuteTime": {
     "end_time": "2022-11-07T03:57:01.235265Z",
     "start_time": "2022-11-07T03:57:01.220259Z"
    }
   },
   "outputs": [
    {
     "name": "stdout",
     "output_type": "stream",
     "text": [
      "weapon\n",
      "devastated\n",
      "suicide bomber\n",
      "hostage\n",
      "emergency service\n",
      "mass murder\n",
      "hazard\n",
      "collapsed\n",
      "explosion\n",
      "upheaval\n",
      "evacuated\n",
      "injury\n",
      "no_keyword\n",
      "blizzard\n",
      "explode\n",
      "detonation\n",
      "mayhem\n",
      "ruin\n",
      "trauma\n",
      "earthquake\n",
      "seismic\n",
      "bombed\n",
      "derailed\n",
      "hellfire\n",
      "catastrophe\n",
      "wildfire\n",
      "terrorist\n",
      "collided\n",
      "engulfed\n",
      "fear\n",
      "battle\n",
      "hailstorm\n",
      "nuclear reactor\n",
      "building on fire\n",
      "body bagging\n",
      "bleeding\n",
      "blew up\n",
      "obliteration\n",
      "inundated\n",
      "lava\n",
      "exploded\n",
      "rescue\n",
      "police\n",
      "wreck\n",
      "demolition\n",
      "fire truck\n",
      "collision\n",
      "derail\n",
      "derailment\n",
      "building burning\n",
      "panicking\n",
      "rioting\n",
      "crush\n",
      "aftershock\n",
      "drown\n",
      "desolate\n",
      "fatality\n",
      "demolished\n",
      "military\n",
      "disaster\n",
      "destruction\n",
      "drowning\n",
      "war zone\n",
      "devastation\n",
      "quarantined\n",
      "avalanche\n",
      "crash\n",
      "flooding\n",
      "apocalypse\n",
      "wrecked\n",
      "sinkhole\n",
      "windstorm\n",
      "dead\n",
      "nuclear disaster\n",
      "flood\n",
      "accident\n",
      "heat wave\n",
      "collapse\n",
      "hijacker\n",
      "annihilation\n",
      "annihilated\n",
      "smoke\n",
      "injured\n",
      "rescued\n",
      "scream\n",
      "terrorism\n",
      "blazing\n",
      "burning building\n",
      "bombing\n",
      "cyclone\n",
      "riot\n",
      "armageddon\n",
      "eyewitness\n",
      "bridge collapse\n",
      "damage\n",
      "obliterated\n",
      "casualty\n",
      "threat\n",
      "collide\n",
      "destroy\n",
      "rubble\n",
      "outbreak\n",
      "violent storm\n",
      "desolation\n",
      "airplane accident\n",
      "crashed\n",
      "fire\n",
      "wound\n",
      "bush fire\n",
      "rescuer\n",
      "demolish\n",
      "hijack\n",
      "burned\n",
      "survive\n",
      "ambulance\n",
      "bloody\n",
      "quarantine\n",
      "drowned\n",
      "storm\n",
      "typhoon\n",
      "wreckage\n",
      "survivor\n",
      "survived\n",
      "tsunami\n",
      "hijacking\n",
      "debris\n",
      "thunderstorm\n",
      "drought\n",
      "wild fire\n",
      "massacre\n",
      "destroyed\n",
      "forest fire\n",
      "evacuation\n",
      "suicide bombing\n",
      "bomb\n",
      "structural failure\n",
      "electrocute\n",
      "obliterate\n",
      "attack\n",
      "electrocuted\n",
      "burning\n",
      "hail\n",
      "epicentre\n",
      "blight\n",
      "pandemonium\n",
      "sandstorm\n",
      "screaming\n",
      "cliff fall\n",
      "ablaze\n",
      "fatal\n",
      "first responder\n",
      "hurricane\n",
      "curfew\n",
      "snowstorm\n",
      "deluge\n",
      "wounded\n",
      "death\n",
      "mass murderer\n",
      "inundation\n",
      "emergency\n",
      "lightning\n",
      "trouble\n",
      "meltdown\n",
      "trapped\n",
      "blaze\n",
      "tornado\n",
      "army\n",
      "catastrophic\n",
      "body bag\n",
      "suicide bomb\n",
      "whirlwind\n",
      "refugee\n",
      "detonate\n",
      "crushed\n",
      "traumatised\n",
      "hazardous\n",
      "deluged\n",
      "bioterror\n",
      "bioterrorism\n",
      "rainstorm\n",
      "blood\n",
      "chemical emergency\n",
      "loud bang\n",
      "emergency plan\n",
      "sinking\n",
      "oil spill\n",
      "twister\n",
      "evacuate\n",
      "arson\n",
      "siren\n",
      "danger\n",
      "famine\n",
      "screamed\n",
      "arsonist\n",
      "attacked\n",
      "thunder\n",
      "radiation emergency\n",
      "volcano\n",
      "tragedy\n",
      "dust storm\n",
      "blown up\n",
      "natural disaster\n",
      "razed\n",
      "stretcher\n",
      "harm\n",
      "mudslide\n",
      "flame\n",
      "landslide\n",
      "panic\n",
      "sunk\n",
      "flattened\n",
      "displaced\n"
     ]
    }
   ],
   "source": [
    "# %20 is a code for space button\n",
    "for i in x:\n",
    "    print(i)"
   ]
  },
  {
   "cell_type": "code",
   "execution_count": 63,
   "id": "racial-architect",
   "metadata": {
    "ExecuteTime": {
     "end_time": "2022-11-07T03:57:02.337664Z",
     "start_time": "2022-11-07T03:57:02.331661Z"
    }
   },
   "outputs": [
    {
     "name": "stdout",
     "output_type": "stream",
     "text": [
      "@YoungHeroesID LAVA BLAST dan POWER RED #PantherAttack @Mirmanda11 @evaaaSR\n",
      "\n",
      "Christian Attacked by Muslims at the Temple Mount after Waving Israeli Flag via Pamela Geller - ... http://t.co/wGWiQmICL1\n",
      "\n",
      "@kynespeace *blight\n",
      "\n",
      "Read a SchoolboyÛªs Eyewitness Account of Hiroshima http://t.co/pq0D7MH3qr\n",
      "\n",
      "Hey girl you must be Toe Hobbit: Part Two: ghe Desolation of Smaug because I'm not interested in seeing you. Sorry.\n",
      "\n",
      "SEISMIC RISK: a COMPARISON between 2 case studies: CALABRIA AND MALTA http://t.co/HmRtqEykyI\n",
      "\n",
      "((OFFICIAL VID)) #DoubleCups &gt;&gt; https://t.co/lfKMTZaEkk &gt;&gt; @TrubGME Prod @THISIZBWRIGHT &gt;&gt; #ARMAGEDDON\n",
      "\n",
      "*CUE THE JARIANA STANS SCREAMING\n",
      "\n",
      "Niggas favorite question is why you single ?? bitch I don't know pussy too wet almost drowned a nigga ??????????\n",
      "\n",
      "Still no plans? Don't worry we got you covered. Plenty of Seismic IPA and Seismic Squeeze Radler to help... http://t.co/A8nMdkd3rV\n",
      "\n"
     ]
    }
   ],
   "source": [
    "for i in range(10):\n",
    "    print(train_data['text'].values[i])\n",
    "    print()"
   ]
  },
  {
   "cell_type": "code",
   "execution_count": 64,
   "id": "injured-girlfriend",
   "metadata": {
    "ExecuteTime": {
     "end_time": "2022-11-07T03:57:08.323934Z",
     "start_time": "2022-11-07T03:57:08.315933Z"
    }
   },
   "outputs": [
    {
     "data": {
      "text/plain": [
       "'((OFFICIAL VID)) #DoubleCups &gt;&gt; https://t.co/lfKMTZaEkk &gt;&gt; @TrubGME Prod @THISIZBWRIGHT &gt;&gt; #ARMAGEDDON'"
      ]
     },
     "execution_count": 64,
     "metadata": {},
     "output_type": "execute_result"
    }
   ],
   "source": [
    "train_data['text'].values[6]"
   ]
  },
  {
   "cell_type": "code",
   "execution_count": 70,
   "id": "neither-colleague",
   "metadata": {
    "ExecuteTime": {
     "end_time": "2022-11-07T03:58:46.968176Z",
     "start_time": "2022-11-07T03:58:46.952545Z"
    }
   },
   "outputs": [
    {
     "data": {
      "text/plain": [
       "['Read', 'a', 'Schoolboy\\x89Ûªs', 'Eyewitness', 'Account', 'of', 'Hiroshima']"
      ]
     },
     "execution_count": 70,
     "metadata": {},
     "output_type": "execute_result"
    }
   ],
   "source": [
    "nltk.tokenize.word_tokenize(train_data['text'].values[3])"
   ]
  },
  {
   "cell_type": "markdown",
   "id": "abandoned-landing",
   "metadata": {},
   "source": [
    "# Feature engineering"
   ]
  },
  {
   "cell_type": "code",
   "execution_count": 66,
   "id": "russian-fetish",
   "metadata": {
    "ExecuteTime": {
     "end_time": "2022-11-07T03:57:10.154890Z",
     "start_time": "2022-11-07T03:57:10.092888Z"
    }
   },
   "outputs": [],
   "source": [
    "def add_features(df: pd.DataFrame):\n",
    "    df['text_count_chars'] = df['text'].apply(lambda x: len(x))\n",
    "    df['text_count_words'] = df['text'].apply(lambda x: len(x.split(\" \")))\n",
    "    df['text_count_@'] = df['text'].apply(lambda x: x.count(r\"@\"))\n",
    "    df['text_count_http'] = df['text'].apply(lambda x: x.count(r\"http\"))\n",
    "    df['text_count_hashtag'] = df['text'].apply(lambda x: x.count(r\"#\"))\n",
    "    \n",
    "add_features(train_data)\n",
    "add_features(valid_data)\n",
    "add_features(test_df)"
   ]
  },
  {
   "cell_type": "code",
   "execution_count": 67,
   "id": "rational-directory",
   "metadata": {
    "ExecuteTime": {
     "end_time": "2022-11-07T03:57:10.532434Z",
     "start_time": "2022-11-07T03:57:10.521419Z"
    }
   },
   "outputs": [],
   "source": [
    "def clean_tweet(tweet):\n",
    "    tweet = re.sub(\"@[A-Za-z0-9]+\",\"\",tweet) #Remove @ sign\n",
    "    tweet = re.sub(r\"(?:\\@|http?\\://|https?\\://|www)\\S+\", \"\", tweet) #Remove http links\n",
    "    tweet = \" \".join(tweet.split())\n",
    "    tweet = ''.join(c for c in tweet if c not in emoji.UNICODE_EMOJI) #Remove Emojis\n",
    "    tweet = tweet.replace(\"#\", \"\").replace(\"_\", \" \") #Remove hashtag sign but keep the text\n",
    "    return tweet"
   ]
  },
  {
   "cell_type": "code",
   "execution_count": 68,
   "id": "universal-wonder",
   "metadata": {
    "ExecuteTime": {
     "end_time": "2022-11-07T03:57:11.587105Z",
     "start_time": "2022-11-07T03:57:10.941776Z"
    }
   },
   "outputs": [],
   "source": [
    "#clean text\n",
    "for df in [train_data, valid_data, test_df]:\n",
    "    df['text'] = df['text'].apply(lambda x: clean_tweet(x))"
   ]
  },
  {
   "cell_type": "code",
   "execution_count": 71,
   "id": "excited-baking",
   "metadata": {
    "ExecuteTime": {
     "end_time": "2022-11-07T03:59:54.556156Z",
     "start_time": "2022-11-07T03:59:54.540528Z"
    }
   },
   "outputs": [
    {
     "name": "stdout",
     "output_type": "stream",
     "text": [
      "I know it's a question of interpretation but this is a sign of the apocalypse. I called it\n",
      "\n",
      "It's been 70 years (and one hour) since the bombing of Hiroshima. Let's take this time to remember.\n",
      "\n",
      "For the people who died in Human Experiments by Unit 731 of Japanese military\n",
      "\n",
      "Womens Buckle Casual Stylish Shoulder Handbags Pockets Cross Body Bags Green\n",
      "\n",
      "Romantic dramatic but never panic original sensei write rhymes in the attic\n",
      "\n",
      "I don't laugh out loud at many things. But man I really lol @ the big bang theory.\n",
      "\n",
      "Marquei como visto Dragon Ball Super - 1x1 - The God of Destruction\\'s Dream bancodeseries\n",
      "\n",
      "Deal of The Day : Brand New DSERIALPCILP Lava Computer PCI Bus Dual Serial 16550 Board eÛ \n",
      "\n",
      "If a nigga was a threat then that boy ah be thru ????\n",
      "\n",
      "13000 evacuated as California firefighters fight flames to save homes. RockyFire\n",
      "\n"
     ]
    }
   ],
   "source": [
    "for i in range(10,20):\n",
    "    print(train_data['text'].values[i])\n",
    "    print()"
   ]
  },
  {
   "cell_type": "markdown",
   "id": "consistent-klein",
   "metadata": {},
   "source": [
    "# Train model"
   ]
  },
  {
   "cell_type": "code",
   "execution_count": 72,
   "id": "architectural-april",
   "metadata": {
    "ExecuteTime": {
     "end_time": "2022-11-07T04:00:38.797539Z",
     "start_time": "2022-11-07T04:00:38.791540Z"
    }
   },
   "outputs": [],
   "source": [
    "def tokenize_text(txt, min_token_size=3):\n",
    "    lemmatizer = WordNetLemmatizer() # lemmatizer.lemmatize\n",
    "    #stopwrods = set(nltk.corpus.stopwords.words('english')) #sno.stem\n",
    "    sno = nltk.stem.SnowballStemmer('english')\n",
    "    punctuations = set([\"...\",\":\",\"-\",\".\",\"?\",\"@\",\"*\",\";\",\"*\",'&',\"gt\",\"-\",\n",
    "                       \"\\x89Ûªs\"])\n",
    "    all_tokens = nltk.tokenize.word_tokenize(txt)\n",
    "    return [sno.stem(token) for token in all_tokens if (len(token)> min_token_size and token not in punctuations)]"
   ]
  },
  {
   "cell_type": "code",
   "execution_count": 73,
   "id": "coupled-prescription",
   "metadata": {
    "ExecuteTime": {
     "end_time": "2022-11-07T04:00:42.093787Z",
     "start_time": "2022-11-07T04:00:39.527432Z"
    }
   },
   "outputs": [],
   "source": [
    "MAX_DF = 0.9\n",
    "MIN_DF = 5\n",
    "\n",
    "linear_model = LogisticRegression(penalty='l2', \n",
    "                                  C=10, \n",
    "                                  solver='liblinear', \n",
    "                                  #class_weight='balanced',\n",
    "                                  max_iter=200)\n",
    "\n",
    "\n",
    "\n",
    "text_vectorizer = TfidfVectorizer(tokenizer=tokenize_text,  \n",
    "                             ngram_range = (1,2),\n",
    "                             max_features = 50000,\n",
    "                             max_df=MAX_DF,\n",
    "                             min_df=MIN_DF,\n",
    "                             #stop_words='english',\n",
    "                             norm='l2',\n",
    "                             sublinear_tf=True)\n",
    "\n",
    "keyword_vectorizer = TfidfVectorizer(tokenizer=tokenize_text,  \n",
    "                             ngram_range = (1,1),\n",
    "                             max_features = 50000,\n",
    "                             max_df=1.0,\n",
    "                             min_df=1,\n",
    "                             #stop_words='english',\n",
    "                             norm='l2',\n",
    "                             sublinear_tf=True)\n",
    "\n",
    "loc_vectorizer = TfidfVectorizer(tokenizer=tokenize_text,  \n",
    "                             ngram_range = (1,1),\n",
    "                             max_features = 50000,\n",
    "                             max_df=1.0,\n",
    "                             min_df=1,\n",
    "                             #stop_words='english',\n",
    "                             norm='l2',\n",
    "                             sublinear_tf=True)\n",
    "\n",
    "\n",
    "preprocessor = ColumnTransformer(\n",
    "    transformers=[\n",
    "        (\"text\", text_vectorizer, 'text'),\n",
    "        (\"keyword\", keyword_vectorizer, 'keyword')\n",
    "        #(\"location\", loc_vectorizer, 'location')\n",
    "    ],\n",
    "    remainder = 'passthrough'\n",
    "    #remainder = 'drop'\n",
    ")\n",
    "\n",
    "sklearn_pipeline = Pipeline(steps=[('preprocessor', preprocessor),\n",
    "                             #('text', text_vectorizer),\n",
    "                             ('LR', linear_model)])\n",
    "sklearn_pipeline.fit(train_data, train_target);"
   ]
  },
  {
   "cell_type": "markdown",
   "id": "seeing-theater",
   "metadata": {},
   "source": [
    "# Post-Hoc analysis"
   ]
  },
  {
   "cell_type": "code",
   "execution_count": 74,
   "id": "western-thomas",
   "metadata": {
    "ExecuteTime": {
     "end_time": "2022-11-07T04:00:42.109789Z",
     "start_time": "2022-11-07T04:00:42.096791Z"
    }
   },
   "outputs": [
    {
     "data": {
      "text/plain": [
       "2595"
      ]
     },
     "execution_count": 74,
     "metadata": {},
     "output_type": "execute_result"
    }
   ],
   "source": [
    "len(sklearn_pipeline.named_steps['preprocessor'].transformers_[0][1].vocabulary_)"
   ]
  },
  {
   "cell_type": "code",
   "execution_count": 75,
   "id": "minor-baseball",
   "metadata": {
    "ExecuteTime": {
     "end_time": "2022-11-07T04:00:42.125793Z",
     "start_time": "2022-11-07T04:00:42.111807Z"
    }
   },
   "outputs": [
    {
     "data": {
      "text/plain": [
       "172"
      ]
     },
     "execution_count": 75,
     "metadata": {},
     "output_type": "execute_result"
    }
   ],
   "source": [
    "len(sklearn_pipeline.named_steps['preprocessor'].transformers_[1][1].vocabulary_)"
   ]
  },
  {
   "cell_type": "code",
   "execution_count": 76,
   "id": "manual-annotation",
   "metadata": {
    "ExecuteTime": {
     "end_time": "2022-11-07T04:00:44.141541Z",
     "start_time": "2022-11-07T04:00:44.125542Z"
    }
   },
   "outputs": [],
   "source": [
    "def get_best_acc(model, valid_data, valid_value) -> float:\n",
    "    predict_probs = model.predict_proba(valid_data)[:,1]\n",
    "    n_points = 60\n",
    "    linsp = np.linspace(0.2, 0.9, n_points)\n",
    "    accs = []\n",
    "    max_acc = 0\n",
    "    max_acc_thr = 0\n",
    "    for thresh  in linsp:\n",
    "        predictions = [int(prob >= thresh) for prob in predict_probs]\n",
    "        acc = accuracy_score(valid_value, predictions)\n",
    "        if acc >= max_acc:\n",
    "            max_acc = acc\n",
    "            max_acc_thr = thresh\n",
    "        accs.append(acc)\n",
    "        #print(\"thresh: {} acc: {}\".format(thresh, acc))\n",
    "    print(\"max acc: {} threshold: {}\".format(max_acc, max_acc_thr))\n",
    "    plt.plot(linsp, accs)\n",
    "    return max_acc_thr"
   ]
  },
  {
   "cell_type": "code",
   "execution_count": 77,
   "id": "numeric-uzbekistan",
   "metadata": {
    "ExecuteTime": {
     "end_time": "2022-11-07T04:00:46.004934Z",
     "start_time": "2022-11-07T04:00:44.919598Z"
    }
   },
   "outputs": [
    {
     "name": "stdout",
     "output_type": "stream",
     "text": [
      "max acc: 0.8030203545633617 threshold: 0.6271186440677965\n"
     ]
    },
    {
     "data": {
      "image/png": "[encoded data removed]",
      "text/plain": [
       "<Figure size 640x480 with 1 Axes>"
      ]
     },
     "metadata": {},
     "output_type": "display_data"
    }
   ],
   "source": [
    "best_threshold = get_best_acc(sklearn_pipeline, valid_data, valid_target)"
   ]
  },
  {
   "cell_type": "markdown",
   "id": "peaceful-observation",
   "metadata": {},
   "source": [
    "# Write results to a csv file"
   ]
  },
  {
   "cell_type": "code",
   "execution_count": 78,
   "id": "proved-birth",
   "metadata": {
    "ExecuteTime": {
     "end_time": "2022-11-07T04:00:50.526489Z",
     "start_time": "2022-11-07T04:00:49.465446Z"
    }
   },
   "outputs": [],
   "source": [
    "predictions_probs = sklearn_pipeline.predict_proba(test_df)[:,1]"
   ]
  },
  {
   "cell_type": "code",
   "execution_count": 79,
   "id": "missing-variance",
   "metadata": {
    "ExecuteTime": {
     "end_time": "2022-11-07T04:00:50.542285Z",
     "start_time": "2022-11-07T04:00:50.529288Z"
    }
   },
   "outputs": [],
   "source": [
    "#disaster_threshold = 0.5\n",
    "disaster_threshold = best_threshold\n",
    "predictions = [int(x > disaster_threshold) for x in predictions_probs]"
   ]
  },
  {
   "cell_type": "code",
   "execution_count": 80,
   "id": "sought-flooring",
   "metadata": {
    "ExecuteTime": {
     "end_time": "2022-11-07T04:00:51.170502Z",
     "start_time": "2022-11-07T04:00:51.162499Z"
    }
   },
   "outputs": [],
   "source": [
    "sumbission = {\"id\": test_df['id'], \"target\": predictions}"
   ]
  },
  {
   "cell_type": "code",
   "execution_count": 81,
   "id": "figured-milwaukee",
   "metadata": {
    "ExecuteTime": {
     "end_time": "2022-11-07T04:00:52.370790Z",
     "start_time": "2022-11-07T04:00:52.356793Z"
    }
   },
   "outputs": [],
   "source": [
    "submbission = pd.DataFrame.from_dict(sumbission)"
   ]
  },
  {
   "cell_type": "code",
   "execution_count": 82,
   "id": "pleasant-going",
   "metadata": {
    "ExecuteTime": {
     "end_time": "2022-11-07T04:00:52.862737Z",
     "start_time": "2022-11-07T04:00:52.742143Z"
    }
   },
   "outputs": [],
   "source": [
    "submbission.to_csv(\"submission.csv\", index=False)"
   ]
  },
  {
   "cell_type": "code",
   "execution_count": null,
   "id": "warming-recognition",
   "metadata": {},
   "outputs": [],
   "source": []
  }
 ],
 "metadata": {
  "kernelspec": {
   "display_name": "Python39Venv",
   "language": "python",
   "name": "python39venv"
  },
  "language_info": {
   "codemirror_mode": {
    "name": "ipython",
    "version": 3
   },
   "file_extension": ".py",
   "mimetype": "text/x-python",
   "name": "python",
   "nbconvert_exporter": "python",
   "pygments_lexer": "ipython3",
   "version": "3.9.13"
  }
 },
 "nbformat": 4,
 "nbformat_minor": 5
}
